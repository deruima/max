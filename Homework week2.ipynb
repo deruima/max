{
 "cells": [
  {
   "cell_type": "code",
   "execution_count": null,
   "id": "a2dfca47",
   "metadata": {},
   "outputs": [],
   "source": [
    "TASK 1\n"
   ]
  },
  {
   "cell_type": "code",
   "execution_count": null,
   "id": "3b411e3b",
   "metadata": {},
   "outputs": [],
   "source": [
    "for i in range(reps):\n",
    "    # make sure that simulate won't repeat more that repeat times(100000)\n",
    "secret_winning_door = np.random.choice(all_door_options)\n",
    "    # select a door as winning door\n",
    "all_door_options_list = list(all_door_options)\n",
    "    # make a list of doors\n",
    "all_door_options_list.remove(secret_winning_door)\n",
    "    # remove winning door from list so won't count it \n",
    "try:\n",
    "    all_door_options_list.remove(my_door_choice)\n",
    "except:\n",
    "    pass\n",
    "\n",
    "    # if player choose the winning door, it will be into expect part, it is trying to remove player's begin choose.\n",
    "goat_door_reveal = np.random.choice(all_door_options_list)\n",
    "all_door_options_list.remove(goat_door_reveal\n",
    "    # if player want to change door, then random remove a goat door\n",
    "if secret_winning_door != my_door_choice:\n",
    "    all_door_options_list.append(secret_winning_door)\n",
    "my_door_choice = all_door_options_list[0]\n",
    "    # if player isn't choose right door at begin, then it will add winning door into list and player are going to choose remain door in list\n",
    "if my_door_choice == secret_winning_door:\n",
    "    i_won += 1\n",
    "    # count every winning times\n",
    "i_won/reps\n",
    "    # count for pr()\n"
   ]
  },
  {
   "cell_type": "code",
   "execution_count": null,
   "id": "65d39db6",
   "metadata": {},
   "outputs": [],
   "source": [
    "Task 2\n"
   ]
  },
  {
   "cell_type": "code",
   "execution_count": 12,
   "id": "9e045b8c",
   "metadata": {},
   "outputs": [
    {
     "data": {
      "text/plain": [
       "0.66654"
      ]
     },
     "execution_count": 12,
     "metadata": {},
     "output_type": "execute_result"
    }
   ],
   "source": [
    "import numpy as np\n",
    "all_doors = [1, 2, 3]\n",
    "reps = 100000\n",
    "wins = 0\n",
    "\n",
    "for _ in range(reps):\n",
    "    winning_door = np.random.choice(all_doors)\n",
    "    player_choice = 1\n",
    "    remaining_doors = [door for door in all_doors if door != player_choice and door != winning_door]\n",
    "    revealed_door = np.random.choice(remaining_doors)\n",
    "    switch_choice = [door for door in all_doors if door != player_choice and door != revealed_door]\n",
    "    if switch_choice == winning_door:\n",
    "        wins += 1\n",
    "wins/reps"
   ]
  },
  {
   "cell_type": "code",
   "execution_count": null,
   "id": "b4cdce2a",
   "metadata": {},
   "outputs": [],
   "source": [
    "# it use few if function and shorter the whole code"
   ]
  },
  {
   "cell_type": "code",
   "execution_count": null,
   "id": "84b651e1",
   "metadata": {},
   "outputs": [],
   "source": [
    "TASK3\n",
    "\n"
   ]
  },
  {
   "cell_type": "code",
   "execution_count": null,
   "id": "40017064",
   "metadata": {},
   "outputs": [],
   "source": [
    "import numpy as np\n",
    "all_doors = [1, 2, 3]\n",
    "reps = 100000\n",
    "wins = 0\n",
    "\n",
    "for _ in range(reps):\n",
    "    winning_door = np.random.choice(all_doors)\n",
    "    # setting winning door as random door\n",
    "    player_choice = 1\n",
    "    remaining_doors = [door for door in all_doors if door != player_choice and door != winning_door]\n",
    "    # remain door != either chosen door or winning door\n",
    "    revealed_door = np.random.choice(remaining_doors)\n",
    "    # choose random one from remain doors\n",
    "    switch_choice = [door for door in all_doors if door != player_choice and door != revealed_door]\n",
    "    # after switch door, this door!= either first chosen door or remain door\n",
    "    if switch_choice == winning_door:\n",
    "        wins += 1\n",
    "        # wins += 1 equal as wins = wins + 1\n",
    "wins/reps"
   ]
  },
  {
   "cell_type": "code",
   "execution_count": null,
   "id": "996227f7",
   "metadata": {},
   "outputs": [],
   "source": [
    "Task4\n",
    "\n"
   ]
  },
  {
   "cell_type": "code",
   "execution_count": 21,
   "id": "5d880d8f",
   "metadata": {},
   "outputs": [
    {
     "data": {
      "text/plain": [
       "'Hello! How can I assist you today?'"
      ]
     },
     "execution_count": 21,
     "metadata": {},
     "output_type": "execute_result"
    }
   ],
   "source": [
    "import random\n",
    "\n",
    "# Sample text to train the model\n",
    "text = \"\"\"\n",
    "Your sample text goes here. This text will be used to train the Markov chain model.\n",
    "The more text you provide, the better the model will be at generating coherent sentences.\n",
    "\"\"\"\n",
    "\n",
    "# Preprocess the text\n",
    "words = text.split()\n",
    "word_dict = {}\n",
    "\n",
    "# Build the Markov chain model\n",
    "for i in range(len(words) - 1):\n",
    "    if words[i] in word_dict:\n",
    "        word_dict[words[i]].append(words[i + 1])\n",
    "    else:\n",
    "        word_dict[words[i]] = [words[i + 1]]\n",
    "\n",
    "# Function to generate a response\n",
    "def generate_response(user_input):\n",
    "    if \"hello\" in user_input.lower():\n",
    "        return \"Hello! How can I assist you today?\"\n",
    "    elif \"bye\" in user_input.lower():\n",
    "        return \"Goodbye! Have a great day!\"\n",
    "    else:\n",
    "        word = random.choice(words)\n",
    "        response = word.capitalize()\n",
    "        for _ in range(10):  # Generate a sentence of 10 words\n",
    "            next_words = word_dict.get(word, None)\n",
    "            if not next_words:\n",
    "                break\n",
    "            next_word = random.choice(next_words)\n",
    "            response += ' ' + next_word\n",
    "            word = next_word\n",
    "        return response + '.'\n",
    "generate_response(\"hello\")"
   ]
  },
  {
   "cell_type": "code",
   "execution_count": null,
   "id": "90c18840",
   "metadata": {},
   "outputs": [],
   "source": [
    "TASK5\n",
    "\n"
   ]
  },
  {
   "cell_type": "code",
   "execution_count": null,
   "id": "27dec539",
   "metadata": {},
   "outputs": [],
   "source": [
    "#INHEANCE VERSION\n",
    "\n",
    "\n",
    "import random\n",
    "\n",
    "# Sample text to train the model\n",
    "text = \"\"\"\n",
    "Your sample text goes here. This text will be used to train the Markov chain model.\n",
    "The more text you provide, the better the model will be at generating coherent sentences.\n",
    "\"\"\"\n",
    "\n",
    "# Preprocess the text\n",
    "words = text.split()\n",
    "word_dict = {}\n",
    "\n",
    "# Build the Markov chain model\n",
    "for i in range(len(words) - 2):\n",
    "    key = (words[i], words[i + 1])\n",
    "    if key in word_dict:\n",
    "        word_dict[key].append(words[i + 2])\n",
    "    else:\n",
    "        word_dict[key] = [words[i + 2]]\n",
    "\n",
    "# Function to generate a response\n",
    "def generate_response(user_input):\n",
    "    if \"hello\" in user_input.lower():\n",
    "        return \"Hello! How can I assist you today?\"\n",
    "    elif \"bye\" in user_input.lower():\n",
    "        return \"Goodbye! Have a great day!\"\n",
    "    else:\n",
    "        key = random.choice(list(word_dict.keys()))\n",
    "        word1, word2 = key\n",
    "        response = word1.capitalize() + ' ' + word2\n",
    "        for _ in range(10):  # Generate a sentence of 10 words\n",
    "            next_words = word_dict.get((word1, word2), None)\n",
    "            if not next_words:\n",
    "                break\n",
    "            next_word = random.choice(next_words)\n",
    "            response += ' ' + next_word\n",
    "            word1, word2 = word2, next_word\n",
    "        return response + '.'\n",
    "\n",
    "    \n",
    "    \n",
    "#ORIGINAL VERSION\n",
    "\n",
    "import random\n",
    "\n",
    "# Sample text to train the model\n",
    "text = \"\"\"\n",
    "Your sample text goes here. This text will be used to train the Markov chain model.\n",
    "The more text you provide, the better the model will be at generating coherent sentences.\n",
    "\"\"\"\n",
    "\n",
    "# Preprocess the text\n",
    "words = text.split()\n",
    "word_dict = {}\n",
    "\n",
    "# Build the Markov chain model\n",
    "for i in range(len(words) - 1):\n",
    "    if words[i] in word_dict:\n",
    "        word_dict[words[i]].append(words[i + 1])\n",
    "    else:\n",
    "        word_dict[words[i]] = [words[i + 1]]\n",
    "\n",
    "# Function to generate a response\n",
    "def generate_response(user_input):\n",
    "    if \"hello\" in user_input.lower():\n",
    "        return \"Hello! How can I assist you today?\"\n",
    "    elif \"bye\" in user_input.lower():\n",
    "        return \"Goodbye! Have a great day!\"\n",
    "    else:\n",
    "        word = random.choice(words)\n",
    "        response = word.capitalize()\n",
    "        for _ in range(10):  # Generate a sentence of 10 words\n",
    "            next_words = word_dict.get(word, None)\n",
    "            if not next_words:\n",
    "                break\n",
    "            next_word = random.choice(next_words)\n",
    "            response += ' ' + next_word\n",
    "            word = next_word\n",
    "        return response + '.'\n",
    "generate_response(\"hello\")"
   ]
  },
  {
   "cell_type": "code",
   "execution_count": null,
   "id": "630b0408",
   "metadata": {},
   "outputs": [],
   "source": [
    "# AI seems can understand inhance part\n",
    "\n",
    "It's response(summary)\n",
    "Here are the key enhancements summarized:\n",
    "\n",
    "    Markov Chain Model:\n",
    "        Original: Uses a single word as the key.\n",
    "        Enhanced: Uses a pair of words as the key, improving sentence coherence.\n",
    "\n",
    "    Response Generation:\n",
    "        Original: Starts with a random word and builds the sentence word by word.\n",
    "        Enhanced: Starts with a random pair of words and builds the sentence, resulting in more contextually relevant responses.\n",
    "\n",
    "These changes make the chatbot’s responses more coherent and contextually appropriate. "
   ]
  },
  {
   "cell_type": "code",
   "execution_count": null,
   "id": "d77fadf0",
   "metadata": {},
   "outputs": [],
   "source": [
    "TASK6  \n",
    "\n"
   ]
  },
  {
   "cell_type": "code",
   "execution_count": null,
   "id": "b0c8684c",
   "metadata": {},
   "outputs": [],
   "source": [
    "Discuss how quickly the ChatBot was able to be helpful for each of the above questions, and if so, how?\n",
    "# It wasn't so quickly due to it always give out explaination which are too hard to understand. I must ask it to simplify for me many times.\n",
    "# Althought with gramma false, it still can understand what you ask. It is helpful for student with weak english basic like me.\n",
    "\n",
    "Discuss whether or not interacting with ChatBot to try to figure things out was frustrating or unhelpful, and if so, how?\n",
    "# It is helpful espically with code part,it is very efficency on explain and fixing with error code.\n",
    "# However, it can't explain non-code question well enough for me to understand in frst or second times.\n",
    "Based on your experiences to date (e.g., including using ChatBots to troubleshoot coding errors in the previous homework)\n",
    "\n",
    "\n",
    "provide an overall assessment evaluating the usefulness of ChatBots as tools to help you understand code\n",
    "# In general, it is really helpful on my code fixing. \n",
    "# Alought It will take time to repeat asking it to simplify code explainationfor me, it eventually can help me understanding code which it provided."
   ]
  },
  {
   "cell_type": "code",
   "execution_count": null,
   "id": "5d07954b",
   "metadata": {},
   "outputs": [],
   "source": [
    "TASK7\n",
    "\n"
   ]
  },
  {
   "cell_type": "code",
   "execution_count": null,
   "id": "d08cc529",
   "metadata": {},
   "outputs": [],
   "source": [
    "# I spend most of time ask AI about coding question, which is useful because it is hard to find explaination online due to variaty of code error.\n",
    "# However,with basic or famous statistic or math question, It's explaintation wasn't clear and simple enough comparing with textbook or onilne\n",
    "# So I think it is better to learn non-code question with myself."
   ]
  },
  {
   "cell_type": "code",
   "execution_count": null,
   "id": "38463c74",
   "metadata": {},
   "outputs": [],
   "source": [
    "TASK8\n",
    "\n"
   ]
  },
  {
   "cell_type": "code",
   "execution_count": null,
   "id": "e44a15ed",
   "metadata": {},
   "outputs": [],
   "source": [
    "\n",
    "\n",
    "    Relevance of Coding and Communication Skills:\n",
    "        We discussed how coding and communication skills are highly relevant for learning statistics in the modern world. Coding helps with data analysis and visualization, while communication skills are crucial for presenting findings and collaborating with others.\n",
    "\n",
    "    Becoming a Statistician or Data Scientist Without Coding:\n",
    "        We explored the possibility of being a statistician or data scientist without extensive coding or data analysis. While traditional roles in these fields often require these skills, there are alternative paths such as business analysis, data visualization, data management, and statistical consulting.\n",
    "\n",
    "    Career Opportunities in Biochemistry:\n",
    "        You expressed interest in working in the biochemistry field. We discussed various career paths that do not necessarily require coding or data analysis, such as research scientist, clinical biochemist, pharmaceutical scientist, forensic scientist, environmental biochemist, biochemistry professor, biotechnology specialist, quality control analyst, and science communicator.\n",
    "\n",
    "Is there anything else you’d like to discuss or any specific questions you have?"
   ]
  },
  {
   "cell_type": "code",
   "execution_count": null,
   "id": "9b17faa8",
   "metadata": {},
   "outputs": [],
   "source": [
    "TASK9\n",
    "\n"
   ]
  },
  {
   "cell_type": "code",
   "execution_count": null,
   "id": "de6137dc",
   "metadata": {},
   "outputs": [],
   "source": [
    "# Yes, I have asked with TA about first tut's information."
   ]
  }
 ],
 "metadata": {
  "kernelspec": {
   "display_name": "Python 3 (ipykernel)",
   "language": "python",
   "name": "python3"
  },
  "language_info": {
   "codemirror_mode": {
    "name": "ipython",
    "version": 3
   },
   "file_extension": ".py",
   "mimetype": "text/x-python",
   "name": "python",
   "nbconvert_exporter": "python",
   "pygments_lexer": "ipython3",
   "version": "3.11.6"
  }
 },
 "nbformat": 4,
 "nbformat_minor": 5
}
